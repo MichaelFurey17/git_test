{
 "cells": [
  {
   "cell_type": "code",
   "execution_count": null,
   "metadata": {},
   "outputs": [],
   "source": [
    "import psycopg2\n",
    "import pandas as pd\n",
    "import numpy as np\n",
    "import matplotlib.pyplot as plt"
   ]
  },
  {
   "cell_type": "code",
   "execution_count": 2,
   "metadata": {},
   "outputs": [],
   "source": [
    "def connect():\n",
    "    #parameter format for local use\n",
    "    params = {\n",
    "    'dbname':'hmda',\n",
    "    'user':'fureym',\n",
    "    'password':'',\n",
    "    'host':'localhost',}\n",
    "    #connect_string = \"dbname=%s user=%s host=%s password =%s\" %(dbname, user, host, password) #set a string for connection to SQL\n",
    "    try:\n",
    "        conn = psycopg2.connect(**params)\n",
    "        print(\"i'm connected\")\n",
    "        #return conn.cursor(cursor_factory=psycopg2.extras.DictCursor) #return a dictionary cursor object\n",
    "        return conn.cursor()\n",
    "    except psycopg2.Error as e: #if database connection results in an error print the following\n",
    "        print(\"I am unable to connect to the database: \", e)"
   ]
  },
  {
   "cell_type": "code",
   "execution_count": 3,
   "metadata": {},
   "outputs": [
    {
     "name": "stdout",
     "output_type": "stream",
     "text": [
      "i'm connected\n"
     ]
    },
    {
     "data": {
      "text/plain": [
       "<cursor object at 0x119958140; closed: 0>"
      ]
     },
     "execution_count": 3,
     "metadata": {},
     "output_type": "execute_result"
    }
   ],
   "source": [
    "connect()"
   ]
  },
  {
   "cell_type": "code",
   "execution_count": 4,
   "metadata": {},
   "outputs": [],
   "source": [
    "#Defining a file analysis function that passes in a SQL command file and a year.  \n",
    "def file_analysis(sql, year):\n",
    "    sql_base = \"\"\n",
    "    with open(sql) as in_sql:\n",
    "        for line in in_sql.readlines():\n",
    "            sql_base = sql_base + line.strip(\"\\n\")\n",
    "            sql_base=sql_base.format(year=year)\n",
    "    cur = connect()\n",
    "    cur.execute(sql_base)\n",
    "    data = cur.fetchall()\n",
    "    data_dict = {\"year\": data[0][0],\n",
    "                \"output\":data[0][1]}\n",
    "    return data_dict\n",
    "\n",
    "#Defining a date iteration function that passes in a SQL command file as a string \n",
    "#and two years for a range of dates.\n",
    "def date_iteration(sql, d1, d2):\n",
    "    dates = list(range(d1, (d2+1)))\n",
    "    analysis_list = []\n",
    "    for date in dates:\n",
    "        analysis_list.append(file_analysis(sql, date))\n",
    "    analysis_df = pd.DataFrame(analysis_list)\n",
    "    return analysis_df\n",
    "\n",
    "#Defining a function that creates a bar chart and an an accompanying table of values\n",
    "#bar chart function that passes in a SQL command file as a string,\n",
    "#two years for a range of dates, a title for the chart, an x-title, a ytitle, and a color. \n",
    "def bar_chart(sql, d1, d2, title, xtitle, ytitle, color):\n",
    "    analysis_df2 = date_iteration(sql, d1, d2)\n",
    "    x = analysis_df2['year']\n",
    "    y = analysis_df2['output']\n",
    "    plt.bar(x, y, color = color)\n",
    "    plt.title(title)\n",
    "    plt.ylabel(ytitle)\n",
    "    plt.xlabel(xtitle)\n",
    "    plt.yticks=([])\n",
    "    analysis_df2['output'] = analysis_df2.apply(lambda x: \"{:,}\".format(x['output']), axis=1)\n",
    "    analysis_df2['year'] = x\n",
    "    print(analysis_df2.head(20))\n",
    "    return plt.show()"
   ]
  },
  {
   "cell_type": "code",
   "execution_count": 5,
   "metadata": {},
   "outputs": [
    {
     "name": "stdout",
     "output_type": "stream",
     "text": [
      "i'm connected\n",
      "i'm connected\n",
      "i'm connected\n",
      "i'm connected\n",
      "i'm connected\n",
      "i'm connected\n",
      "i'm connected\n",
      "i'm connected\n",
      "i'm connected\n",
      "i'm connected\n",
      "i'm connected\n",
      "        output  year\n",
      "0   34,155,360  2006\n",
      "1   26,702,092  2007\n",
      "2   17,531,240  2008\n",
      "3   19,574,492  2009\n",
      "4   16,751,980  2010\n",
      "5   14,906,446  2011\n",
      "6   18,752,061  2012\n",
      "7   17,013,337  2013\n",
      "8   11,875,464  2014\n",
      "9   14,374,184  2015\n",
      "10  16,332,987  2016\n"
     ]
    },
    {
     "data": {
      "image/png": "[encoded data removed]",
      "text/plain": [
       "<Figure size 432x288 with 1 Axes>"
      ]
     },
     "metadata": {
      "needs_background": "light"
     },
     "output_type": "display_data"
    }
   ],
   "source": [
    "bar_chart(\"lar_count.sql\", 2006, 2016, \"Number of Applications by Year\", \"Year\", \"Applications\", \"green\")"
   ]
  },
  {
   "cell_type": "code",
   "execution_count": null,
   "metadata": {},
   "outputs": [],
   "source": []
  }
 ],
 "metadata": {
  "kernelspec": {
   "display_name": "Python 3",
   "language": "python",
   "name": "python3"
  },
  "language_info": {
   "codemirror_mode": {
    "name": "ipython",
    "version": 3
   },
   "file_extension": ".py",
   "mimetype": "text/x-python",
   "name": "python",
   "nbconvert_exporter": "python",
   "pygments_lexer": "ipython3",
   "version": "3.7.0"
  }
 },
 "nbformat": 4,
 "nbformat_minor": 2
}
