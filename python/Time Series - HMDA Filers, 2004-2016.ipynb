{
 "cells": [
  {
   "cell_type": "code",
   "execution_count": 63,
   "metadata": {},
   "outputs": [
    {
     "data": {
      "text/html": [
       "<style>\n",
       ".output {\n",
       "    flex-direction: row;\n",
       "}\n",
       "</style>"
      ],
      "text/plain": [
       "<IPython.core.display.HTML object>"
      ]
     },
     "execution_count": 63,
     "metadata": {},
     "output_type": "execute_result"
    }
   ],
   "source": [
    "import psycopg2\n",
    "import pandas as pd\n",
    "import numpy as np\n",
    "import matplotlib.pyplot as plt\n",
    "from IPython.display import display, HTML\n",
    "CSS = \"\"\"\n",
    ".output {\n",
    "    flex-direction: row;\n",
    "}\n",
    "\"\"\"\n",
    "\n",
    "HTML('<style>{}</style>'.format(CSS))"
   ]
  },
  {
   "cell_type": "code",
   "execution_count": 64,
   "metadata": {},
   "outputs": [],
   "source": [
    "def connect():\n",
    "    #parameter format for local use\n",
    "    params = {\n",
    "    'dbname':'hmda',\n",
    "    'user':'fureym',\n",
    "    'password':'',\n",
    "    'host':'localhost',}\n",
    "    #connect_string = \"dbname=%s user=%s host=%s password =%s\" %(dbname, user, host, password) #set a string for connection to SQL\n",
    "    try:\n",
    "        conn = psycopg2.connect(**params)\n",
    "        #return conn.cursor(cursor_factory=psycopg2.extras.DictCursor) #return a dictionary cursor object\n",
    "        return conn.cursor()\n",
    "    except psycopg2.Error as e: #if database connection results in an error print the following\n",
    "        print(\"I am unable to connect to the database: \", e)"
   ]
  },
  {
   "cell_type": "code",
   "execution_count": 65,
   "metadata": {},
   "outputs": [
    {
     "data": {
      "text/plain": [
       "<cursor object at 0x10c099428; closed: 0>"
      ]
     },
     "execution_count": 65,
     "metadata": {},
     "output_type": "execute_result"
    }
   ],
   "source": [
    "connect()"
   ]
  },
  {
   "cell_type": "code",
   "execution_count": 87,
   "metadata": {},
   "outputs": [],
   "source": [
    "#Defining a file analysis function that passes in a SQL command file and a year.  \n",
    "def file_analysis(sql, year, xcolumn, ycolumn):\n",
    "    sql_base = \"\"\n",
    "    with open(sql) as in_sql:\n",
    "        for line in in_sql.readlines():\n",
    "            sql_base = sql_base + line.strip(\"\\n\")\n",
    "            sql_base=sql_base.format(year=year)\n",
    "    cur = connect()\n",
    "    cur.execute(sql_base)\n",
    "    data = cur.fetchall()\n",
    "    data_dict = {xcolumn: data[0][0],\n",
    "                ycolumn:data[0][1]}\n",
    "    return data_dict\n",
    "\n",
    "#Defining a date iteration function that passes in a SQL command file as a string \n",
    "#and two years for a range of dates.\n",
    "def date_iteration(sql, d1, d2, xcolumn, ycolumn):\n",
    "    dates = list(range(d1, (d2+1)))\n",
    "    analysis_list = []\n",
    "    for date in dates:\n",
    "        analysis_list.append(file_analysis(sql, date, xcolumn, ycolumn))\n",
    "    analysis_df = pd.DataFrame(analysis_list)\n",
    "    analysis_df = analysis_df[[xcolumn, ycolumn]]\n",
    "    return analysis_df\n",
    "\n",
    "#Defining a function that creates a bar chart and an an accompanying table of values\n",
    "#bar chart function that passes in a SQL command file as a string,\n",
    "#two years for a range of dates, a title for the chart, an x-title, a ytitle, and a color. \n",
    "def time_line_chart(sql, d1, d2, xcolumn, ycolumn, title, color):\n",
    "    analysis_df = date_iteration(sql, d1, d2, xcolumn, ycolumn)\n",
    "    x = analysis_df[xcolumn]\n",
    "    y = analysis_df[ycolumn]\n",
    "    plt.plot(x, y, color = color)\n",
    "    plt.title(title)\n",
    "    plt.xlabel(xcolumn)\n",
    "    plt.ylabel(ycolumn)\n",
    "    plt.xticks = x\n",
    "\n",
    "#Defining a function that creates a bar chart and an an accompanying table of values\n",
    "#bar chart function that passes in a SQL command file as a string,\n",
    "#two years for a range of dates, a title for the chart, an x-title, a ytitle, and a color. \n",
    "def time_bar_chart(sql, d1, d2, xcolumn, ycolumn, title, color):\n",
    "#Creates an accompanying table with commas between numbers.     \n",
    "    analysis_df = date_iteration(sql, d1, d2, xcolumn, ycolumn)\n",
    "    x = analysis_df[xcolumn]\n",
    "    y = analysis_df[ycolumn]\n",
    "    plt.bar(x, y, color = color)\n",
    "    plt.title(title)\n",
    "    plt.xlabel(xcolumn)\n",
    "    plt.ylabel(ycolumn)\n",
    "    plt.xticks = x\n",
    "    return plt.show()\n",
    "\n",
    "def chart_table(sql, d1, d2, xcolumn, ycolumn):\n",
    "    analysis_df = date_iteration(sql, d1, d2, xcolumn, ycolumn)\n",
    "    analysis_df[ycolumn] = analysis_df.apply(lambda x: \"{:,}\".format(x[ycolumn]), axis=1)\n",
    "    return display(analysis_df.head(20))\n",
    "\n",
    "\n",
    "\n"
   ]
  },
  {
   "cell_type": "code",
   "execution_count": 88,
   "metadata": {},
   "outputs": [
    {
     "data": {
      "image/png": "[encoded data removed]",
      "text/plain": [
       "<Figure size 432x288 with 1 Axes>"
      ]
     },
     "metadata": {
      "needs_background": "light"
     },
     "output_type": "display_data"
    },
    {
     "data": {
      "text/html": [
       "<div>\n",
       "<style scoped>\n",
       "    .dataframe tbody tr th:only-of-type {\n",
       "        vertical-align: middle;\n",
       "    }\n",
       "\n",
       "    .dataframe tbody tr th {\n",
       "        vertical-align: top;\n",
       "    }\n",
       "\n",
       "    .dataframe thead th {\n",
       "        text-align: right;\n",
       "    }\n",
       "</style>\n",
       "<table border=\"1\" class=\"dataframe\">\n",
       "  <thead>\n",
       "    <tr style=\"text-align: right;\">\n",
       "      <th></th>\n",
       "      <th>Year</th>\n",
       "      <th>Filers</th>\n",
       "    </tr>\n",
       "  </thead>\n",
       "  <tbody>\n",
       "    <tr>\n",
       "      <th>0</th>\n",
       "      <td>2004</td>\n",
       "      <td>8,871</td>\n",
       "    </tr>\n",
       "    <tr>\n",
       "      <th>1</th>\n",
       "      <td>2005</td>\n",
       "      <td>8,873</td>\n",
       "    </tr>\n",
       "    <tr>\n",
       "      <th>2</th>\n",
       "      <td>2006</td>\n",
       "      <td>8,902</td>\n",
       "    </tr>\n",
       "    <tr>\n",
       "      <th>3</th>\n",
       "      <td>2007</td>\n",
       "      <td>8,636</td>\n",
       "    </tr>\n",
       "    <tr>\n",
       "      <th>4</th>\n",
       "      <td>2008</td>\n",
       "      <td>8,422</td>\n",
       "    </tr>\n",
       "    <tr>\n",
       "      <th>5</th>\n",
       "      <td>2009</td>\n",
       "      <td>8,151</td>\n",
       "    </tr>\n",
       "    <tr>\n",
       "      <th>6</th>\n",
       "      <td>2010</td>\n",
       "      <td>7,952</td>\n",
       "    </tr>\n",
       "    <tr>\n",
       "      <th>7</th>\n",
       "      <td>2011</td>\n",
       "      <td>7,676</td>\n",
       "    </tr>\n",
       "    <tr>\n",
       "      <th>8</th>\n",
       "      <td>2012</td>\n",
       "      <td>7,435</td>\n",
       "    </tr>\n",
       "    <tr>\n",
       "      <th>9</th>\n",
       "      <td>2013</td>\n",
       "      <td>7,214</td>\n",
       "    </tr>\n",
       "    <tr>\n",
       "      <th>10</th>\n",
       "      <td>2014</td>\n",
       "      <td>7,062</td>\n",
       "    </tr>\n",
       "    <tr>\n",
       "      <th>11</th>\n",
       "      <td>2015</td>\n",
       "      <td>6,913</td>\n",
       "    </tr>\n",
       "    <tr>\n",
       "      <th>12</th>\n",
       "      <td>2016</td>\n",
       "      <td>6,762</td>\n",
       "    </tr>\n",
       "  </tbody>\n",
       "</table>\n",
       "</div>"
      ],
      "text/plain": [
       "    Year Filers\n",
       "0   2004  8,871\n",
       "1   2005  8,873\n",
       "2   2006  8,902\n",
       "3   2007  8,636\n",
       "4   2008  8,422\n",
       "5   2009  8,151\n",
       "6   2010  7,952\n",
       "7   2011  7,676\n",
       "8   2012  7,435\n",
       "9   2013  7,214\n",
       "10  2014  7,062\n",
       "11  2015  6,913\n",
       "12  2016  6,762"
      ]
     },
     "metadata": {},
     "output_type": "display_data"
    }
   ],
   "source": [
    "time_bar_chart(\"time_series/filer_count.sql\", 2004, 2016, 'Year', \"Filers\", 'Number of HMDA Filers', 'green')\n",
    "chart_table(\"time_series/filer_count.sql\", 2004, 2016, 'Year', \"Filers\")"
   ]
  },
  {
   "cell_type": "code",
   "execution_count": null,
   "metadata": {},
   "outputs": [],
   "source": []
  }
 ],
 "metadata": {
  "kernelspec": {
   "display_name": "Python 3",
   "language": "python",
   "name": "python3"
  },
  "language_info": {
   "codemirror_mode": {
    "name": "ipython",
    "version": 3
   },
   "file_extension": ".py",
   "mimetype": "text/x-python",
   "name": "python",
   "nbconvert_exporter": "python",
   "pygments_lexer": "ipython3",
   "version": "3.7.0"
  }
 },
 "nbformat": 4,
 "nbformat_minor": 2
}
